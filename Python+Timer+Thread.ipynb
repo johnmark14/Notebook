{
 "cells": [
  {
   "cell_type": "code",
   "execution_count": 1,
   "metadata": {},
   "outputs": [
    {
     "name": "stdout",
     "output_type": "stream",
     "text": [
      "ipsem lorem\n",
      "ipsem lorem\n",
      "ipsem lorem\n",
      "ipsem lorem\n",
      "ipsem lorem\n",
      "ipsem lorem\n",
      "ipsem lorem\n",
      "ipsem lorem\n",
      "ipsem lorem\n"
     ]
    }
   ],
   "source": [
    "from threading import Timer,Thread,Event\n",
    "\n",
    "class perpetualTimer():\n",
    "    \n",
    "    def __init__(self,t,hFunction):\n",
    "        self.t=t\n",
    "        self.hFunction = hFunction\n",
    "        self.thread = Timer(self.t,self.handle_function)\n",
    "        \n",
    "    def handle_function(self):\n",
    "        self.hFunction()\n",
    "        self.thread = Timer(self.t, self.handle_function)\n",
    "        self.thread.start()\n",
    "        \n",
    "    def start(self):\n",
    "        self.thread.start()\n",
    "    \n",
    "    def cancel(self):\n",
    "        self.thread.cancel()\n",
    "        \n",
    "def printer():\n",
    "    print(\"ipsem lorem\")\n",
    "    \n",
    "t = perpetualTimer(5,printer)\n",
    "t.start()"
   ]
  },
  {
   "cell_type": "code",
   "execution_count": 2,
   "metadata": {
    "collapsed": true
   },
   "outputs": [],
   "source": [
    "t.cancel()"
   ]
  },
  {
   "cell_type": "code",
   "execution_count": null,
   "metadata": {
    "collapsed": true
   },
   "outputs": [],
   "source": []
  }
 ],
 "metadata": {
  "kernelspec": {
   "display_name": "Python 3",
   "language": "python",
   "name": "python3"
  },
  "language_info": {
   "codemirror_mode": {
    "name": "ipython",
    "version": 3
   },
   "file_extension": ".py",
   "mimetype": "text/x-python",
   "name": "python",
   "nbconvert_exporter": "python",
   "pygments_lexer": "ipython3",
   "version": "3.6.3"
  },
  "widgets": {
   "application/vnd.jupyter.widget-state+json": {
    "state": {},
    "version_major": 2,
    "version_minor": 0
   }
  }
 },
 "nbformat": 4,
 "nbformat_minor": 2
}
